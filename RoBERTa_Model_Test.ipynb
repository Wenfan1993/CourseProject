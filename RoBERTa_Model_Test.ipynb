{
  "nbformat": 4,
  "nbformat_minor": 0,
  "metadata": {
    "colab": {
      "name": "RoBERTa_Model_Test.ipynb",
      "provenance": [],
      "collapsed_sections": [],
      "toc_visible": true,
      "machine_shape": "hm"
    },
    "kernelspec": {
      "name": "python3",
      "display_name": "Python 3"
    },
    "accelerator": "GPU",
    "widgets": {
      "application/vnd.jupyter.widget-state+json": {
        "eb28865dace14a30b3021a67ce3ac0b1": {
          "model_module": "@jupyter-widgets/controls",
          "model_name": "HBoxModel",
          "state": {
            "_view_name": "HBoxView",
            "_dom_classes": [],
            "_model_name": "HBoxModel",
            "_view_module": "@jupyter-widgets/controls",
            "_model_module_version": "1.5.0",
            "_view_count": null,
            "_view_module_version": "1.5.0",
            "box_style": "",
            "layout": "IPY_MODEL_ca11857645d54b4ba217d2192adc8317",
            "_model_module": "@jupyter-widgets/controls",
            "children": [
              "IPY_MODEL_eb05a11585a941f099e6ae824b6985e8",
              "IPY_MODEL_297b4f4005704ea3b96403ec141734c6"
            ]
          }
        },
        "ca11857645d54b4ba217d2192adc8317": {
          "model_module": "@jupyter-widgets/base",
          "model_name": "LayoutModel",
          "state": {
            "_view_name": "LayoutView",
            "grid_template_rows": null,
            "right": null,
            "justify_content": null,
            "_view_module": "@jupyter-widgets/base",
            "overflow": null,
            "_model_module_version": "1.2.0",
            "_view_count": null,
            "flex_flow": null,
            "width": null,
            "min_width": null,
            "border": null,
            "align_items": null,
            "bottom": null,
            "_model_module": "@jupyter-widgets/base",
            "top": null,
            "grid_column": null,
            "overflow_y": null,
            "overflow_x": null,
            "grid_auto_flow": null,
            "grid_area": null,
            "grid_template_columns": null,
            "flex": null,
            "_model_name": "LayoutModel",
            "justify_items": null,
            "grid_row": null,
            "max_height": null,
            "align_content": null,
            "visibility": null,
            "align_self": null,
            "height": null,
            "min_height": null,
            "padding": null,
            "grid_auto_rows": null,
            "grid_gap": null,
            "max_width": null,
            "order": null,
            "_view_module_version": "1.2.0",
            "grid_template_areas": null,
            "object_position": null,
            "object_fit": null,
            "grid_auto_columns": null,
            "margin": null,
            "display": null,
            "left": null
          }
        },
        "eb05a11585a941f099e6ae824b6985e8": {
          "model_module": "@jupyter-widgets/controls",
          "model_name": "FloatProgressModel",
          "state": {
            "_view_name": "ProgressView",
            "style": "IPY_MODEL_a55ac34b75c34e299e414fd2409b68f3",
            "_dom_classes": [],
            "description": "100%",
            "_model_name": "FloatProgressModel",
            "bar_style": "success",
            "max": 2,
            "_view_module": "@jupyter-widgets/controls",
            "_model_module_version": "1.5.0",
            "value": 2,
            "_view_count": null,
            "_view_module_version": "1.5.0",
            "orientation": "horizontal",
            "min": 0,
            "description_tooltip": null,
            "_model_module": "@jupyter-widgets/controls",
            "layout": "IPY_MODEL_15ee2faa8f9c4ea0be01d4d977971bc0"
          }
        },
        "297b4f4005704ea3b96403ec141734c6": {
          "model_module": "@jupyter-widgets/controls",
          "model_name": "HTMLModel",
          "state": {
            "_view_name": "HTMLView",
            "style": "IPY_MODEL_a5a9072c34d94e298d2e0dddc06da3a5",
            "_dom_classes": [],
            "description": "",
            "_model_name": "HTMLModel",
            "placeholder": "​",
            "_view_module": "@jupyter-widgets/controls",
            "_model_module_version": "1.5.0",
            "value": " 2/2 [00:00&lt;00:00,  3.16ba/s]",
            "_view_count": null,
            "_view_module_version": "1.5.0",
            "description_tooltip": null,
            "_model_module": "@jupyter-widgets/controls",
            "layout": "IPY_MODEL_06536703b8ac4c8195340a6f9cee85ef"
          }
        },
        "a55ac34b75c34e299e414fd2409b68f3": {
          "model_module": "@jupyter-widgets/controls",
          "model_name": "ProgressStyleModel",
          "state": {
            "_view_name": "StyleView",
            "_model_name": "ProgressStyleModel",
            "description_width": "initial",
            "_view_module": "@jupyter-widgets/base",
            "_model_module_version": "1.5.0",
            "_view_count": null,
            "_view_module_version": "1.2.0",
            "bar_color": null,
            "_model_module": "@jupyter-widgets/controls"
          }
        },
        "15ee2faa8f9c4ea0be01d4d977971bc0": {
          "model_module": "@jupyter-widgets/base",
          "model_name": "LayoutModel",
          "state": {
            "_view_name": "LayoutView",
            "grid_template_rows": null,
            "right": null,
            "justify_content": null,
            "_view_module": "@jupyter-widgets/base",
            "overflow": null,
            "_model_module_version": "1.2.0",
            "_view_count": null,
            "flex_flow": null,
            "width": null,
            "min_width": null,
            "border": null,
            "align_items": null,
            "bottom": null,
            "_model_module": "@jupyter-widgets/base",
            "top": null,
            "grid_column": null,
            "overflow_y": null,
            "overflow_x": null,
            "grid_auto_flow": null,
            "grid_area": null,
            "grid_template_columns": null,
            "flex": null,
            "_model_name": "LayoutModel",
            "justify_items": null,
            "grid_row": null,
            "max_height": null,
            "align_content": null,
            "visibility": null,
            "align_self": null,
            "height": null,
            "min_height": null,
            "padding": null,
            "grid_auto_rows": null,
            "grid_gap": null,
            "max_width": null,
            "order": null,
            "_view_module_version": "1.2.0",
            "grid_template_areas": null,
            "object_position": null,
            "object_fit": null,
            "grid_auto_columns": null,
            "margin": null,
            "display": null,
            "left": null
          }
        },
        "a5a9072c34d94e298d2e0dddc06da3a5": {
          "model_module": "@jupyter-widgets/controls",
          "model_name": "DescriptionStyleModel",
          "state": {
            "_view_name": "StyleView",
            "_model_name": "DescriptionStyleModel",
            "description_width": "",
            "_view_module": "@jupyter-widgets/base",
            "_model_module_version": "1.5.0",
            "_view_count": null,
            "_view_module_version": "1.2.0",
            "_model_module": "@jupyter-widgets/controls"
          }
        },
        "06536703b8ac4c8195340a6f9cee85ef": {
          "model_module": "@jupyter-widgets/base",
          "model_name": "LayoutModel",
          "state": {
            "_view_name": "LayoutView",
            "grid_template_rows": null,
            "right": null,
            "justify_content": null,
            "_view_module": "@jupyter-widgets/base",
            "overflow": null,
            "_model_module_version": "1.2.0",
            "_view_count": null,
            "flex_flow": null,
            "width": null,
            "min_width": null,
            "border": null,
            "align_items": null,
            "bottom": null,
            "_model_module": "@jupyter-widgets/base",
            "top": null,
            "grid_column": null,
            "overflow_y": null,
            "overflow_x": null,
            "grid_auto_flow": null,
            "grid_area": null,
            "grid_template_columns": null,
            "flex": null,
            "_model_name": "LayoutModel",
            "justify_items": null,
            "grid_row": null,
            "max_height": null,
            "align_content": null,
            "visibility": null,
            "align_self": null,
            "height": null,
            "min_height": null,
            "padding": null,
            "grid_auto_rows": null,
            "grid_gap": null,
            "max_width": null,
            "order": null,
            "_view_module_version": "1.2.0",
            "grid_template_areas": null,
            "object_position": null,
            "object_fit": null,
            "grid_auto_columns": null,
            "margin": null,
            "display": null,
            "left": null
          }
        }
      }
    }
  },
  "cells": [
    {
      "cell_type": "markdown",
      "metadata": {
        "id": "sEuxaO7SEaLa"
      },
      "source": [
        "# Environment Setup\n",
        "\n",
        "1.   Transformers Model Installation\n",
        "2.   Colab Setup"
      ]
    },
    {
      "cell_type": "code",
      "metadata": {
        "id": "gSGW8gWlgQPq"
      },
      "source": [
        "# Install Tranformers & related libraries\n",
        "! pip install transformers\n",
        "! pip install datasets"
      ],
      "execution_count": null,
      "outputs": []
    },
    {
      "cell_type": "markdown",
      "metadata": {
        "id": "R5WtQxpJKrBd"
      },
      "source": [
        "# Parameters Set up "
      ]
    },
    {
      "cell_type": "code",
      "metadata": {
        "id": "ovointEGyYz7"
      },
      "source": [
        "import os\n",
        "import json\n",
        "import pandas as pd\n",
        "import numpy as np\n",
        "from datasets import Dataset, ClassLabel\n",
        "from transformers import AutoTokenizer\n",
        "from transformers import AutoModelForSequenceClassification, TrainingArguments, Trainer\n",
        "from transformers import TrainingArguments\n",
        "import torch"
      ],
      "execution_count": 2,
      "outputs": []
    },
    {
      "cell_type": "code",
      "metadata": {
        "id": "Xwk4SXKlIq7j"
      },
      "source": [
        "model_checkpoint = \"roberta-base\"\r\n",
        "task = \"response_context_rev_sep\"\r\n",
        "args = TrainingArguments(\r\n",
        "    \"test\",\r\n",
        "    evaluation_strategy = \"epoch\",\r\n",
        ")\r\n",
        "# different structural combination of data to be given as input to the transformer\r\n",
        "task_to_keys = {\r\n",
        "    \"response_last_response_sep\": (\"response\", \"last_response\"),\r\n",
        "    \"response_context_sep\": (\"response\", \"context\"),\r\n",
        "    \"response_context_rev_sep\": (\"response\", \"context_rev\"),\r\n",
        "    \"response_only\": (\"response\", None),\r\n",
        "    \"all_only\": (\"all\", None),\r\n",
        "    \"response_last_response_only\": (\"response_last_response\", None),\r\n",
        "    \"response_only\": (\"response\", None)\r\n",
        "}\r\n",
        "sentence1_key, sentence2_key = task_to_keys[task]\r\n",
        "\r\n",
        "def preprocess_function(examples):\r\n",
        "    if sentence2_key is None:\r\n",
        "        return tokenizer(examples[sentence1_key], truncation=True)\r\n",
        "    return tokenizer(examples[sentence1_key], examples[sentence2_key], truncation=True)\r\n"
      ],
      "execution_count": 3,
      "outputs": []
    },
    {
      "cell_type": "code",
      "metadata": {
        "id": "WI3QNcUWI7W4"
      },
      "source": [
        "tokenizer = AutoTokenizer.from_pretrained(model_checkpoint, use_fast=True)"
      ],
      "execution_count": 4,
      "outputs": []
    },
    {
      "cell_type": "markdown",
      "metadata": {
        "id": "EHXwvW2iFdRf"
      },
      "source": [
        "# Data Load\n",
        "Load the test datasets and tokenize it"
      ]
    },
    {
      "cell_type": "code",
      "metadata": {
        "id": "opcP4ty2kgYC"
      },
      "source": [
        "test_pddf = pd.read_json('test.jsonl',  lines=True)"
      ],
      "execution_count": 5,
      "outputs": []
    },
    {
      "cell_type": "code",
      "metadata": {
        "id": "zSE94t90x5ws",
        "colab": {
          "base_uri": "https://localhost:8080/",
          "height": 66,
          "referenced_widgets": [
            "eb28865dace14a30b3021a67ce3ac0b1",
            "ca11857645d54b4ba217d2192adc8317",
            "eb05a11585a941f099e6ae824b6985e8",
            "297b4f4005704ea3b96403ec141734c6",
            "a55ac34b75c34e299e414fd2409b68f3",
            "15ee2faa8f9c4ea0be01d4d977971bc0",
            "a5a9072c34d94e298d2e0dddc06da3a5",
            "06536703b8ac4c8195340a6f9cee85ef"
          ]
        },
        "outputId": "53be6240-65fc-437f-ed37-3a9e0f0ac9f1"
      },
      "source": [
        "test_pddf['context_rev'] = test_pddf.apply(lambda x: \" \".join(x.context[::-1]), axis=1)\n",
        "final_ds = Dataset.from_pandas(test_pddf)\n",
        "final_encoded_ds = final_ds.map(preprocess_function, batched=True)\n"
      ],
      "execution_count": 6,
      "outputs": [
        {
          "output_type": "display_data",
          "data": {
            "application/vnd.jupyter.widget-view+json": {
              "model_id": "eb28865dace14a30b3021a67ce3ac0b1",
              "version_minor": 0,
              "version_major": 2
            },
            "text/plain": [
              "HBox(children=(FloatProgress(value=0.0, max=2.0), HTML(value='')))"
            ]
          },
          "metadata": {
            "tags": []
          }
        },
        {
          "output_type": "stream",
          "text": [
            "\n"
          ],
          "name": "stdout"
        }
      ]
    },
    {
      "cell_type": "markdown",
      "metadata": {
        "id": "_Dn6rgObLFuk"
      },
      "source": [
        "# Import the model and predict on test data\n"
      ]
    },
    {
      "cell_type": "code",
      "metadata": {
        "id": "iY2gWbcCJQ5k",
        "colab": {
          "base_uri": "https://localhost:8080/"
        },
        "outputId": "cc446749-4415-4034-b61c-0788b3bb4c35"
      },
      "source": [
        "model2 =  AutoModelForSequenceClassification.from_pretrained(model_checkpoint, num_labels=2)"
      ],
      "execution_count": 7,
      "outputs": [
        {
          "output_type": "stream",
          "text": [
            "Some weights of the model checkpoint at roberta-base were not used when initializing RobertaForSequenceClassification: ['lm_head.bias', 'lm_head.dense.weight', 'lm_head.dense.bias', 'lm_head.layer_norm.weight', 'lm_head.layer_norm.bias', 'lm_head.decoder.weight', 'roberta.pooler.dense.weight', 'roberta.pooler.dense.bias']\n",
            "- This IS expected if you are initializing RobertaForSequenceClassification from the checkpoint of a model trained on another task or with another architecture (e.g. initializing a BertForSequenceClassification model from a BertForPreTraining model).\n",
            "- This IS NOT expected if you are initializing RobertaForSequenceClassification from the checkpoint of a model that you expect to be exactly identical (initializing a BertForSequenceClassification model from a BertForSequenceClassification model).\n",
            "Some weights of RobertaForSequenceClassification were not initialized from the model checkpoint at roberta-base and are newly initialized: ['classifier.dense.weight', 'classifier.dense.bias', 'classifier.out_proj.weight', 'classifier.out_proj.bias']\n",
            "You should probably TRAIN this model on a down-stream task to be able to use it for predictions and inference.\n"
          ],
          "name": "stderr"
        }
      ]
    },
    {
      "cell_type": "code",
      "metadata": {
        "id": "Glck9VMkJQ6A",
        "colab": {
          "base_uri": "https://localhost:8080/"
        },
        "outputId": "e1e6c2dc-6e6e-4708-81e7-76a6892d3b75"
      },
      "source": [
        "#from google.colab import drive\r\n",
        "#drive.mount('/content/drive', force_remount=True)\r\n",
        "#path_model = os.path.join(r'/content/drive/My Drive/CS410/data','check_point.pth' )\r\n",
        "path_model = 'check_point.pth'\r\n",
        "model2.load_state_dict(torch.load(path_model))"
      ],
      "execution_count": 8,
      "outputs": [
        {
          "output_type": "execute_result",
          "data": {
            "text/plain": [
              "<All keys matched successfully>"
            ]
          },
          "metadata": {
            "tags": []
          },
          "execution_count": 8
        }
      ]
    },
    {
      "cell_type": "code",
      "metadata": {
        "id": "rYV7X0_NJQ6B"
      },
      "source": [
        "trainer2 = Trainer(\r\n",
        "    model=model2,\r\n",
        "    args=args,\r\n",
        "    tokenizer=tokenizer,\r\n",
        ")"
      ],
      "execution_count": 9,
      "outputs": []
    },
    {
      "cell_type": "code",
      "metadata": {
        "id": "LV6RqFSKJQ6C",
        "colab": {
          "base_uri": "https://localhost:8080/",
          "height": 37
        },
        "outputId": "ea432774-c154-477c-b5dc-1b303bf0da71"
      },
      "source": [
        "final_result = trainer2.predict(test_dataset=final_encoded_ds)"
      ],
      "execution_count": 10,
      "outputs": [
        {
          "output_type": "display_data",
          "data": {
            "text/html": [
              "\n",
              "    <div>\n",
              "        <style>\n",
              "            /* Turns off some styling */\n",
              "            progress {\n",
              "                /* gets rid of default border in Firefox and Opera. */\n",
              "                border: none;\n",
              "                /* Needs to be in here for Safari polyfill so background images work as expected. */\n",
              "                background-size: auto;\n",
              "            }\n",
              "        </style>\n",
              "      \n",
              "      <progress value='225' max='225' style='width:300px; height:20px; vertical-align: middle;'></progress>\n",
              "      [225/225 00:19]\n",
              "    </div>\n",
              "    "
            ],
            "text/plain": [
              "<IPython.core.display.HTML object>"
            ]
          },
          "metadata": {
            "tags": []
          }
        }
      ]
    },
    {
      "cell_type": "markdown",
      "metadata": {
        "id": "ckBWV_DNLS7T"
      },
      "source": [
        "# Output the data to answers.txt\n"
      ]
    },
    {
      "cell_type": "code",
      "metadata": {
        "id": "iHQsnCm7JQ6H"
      },
      "source": [
        "final_preds = final_result.predictions.argmax(-1)"
      ],
      "execution_count": 11,
      "outputs": []
    },
    {
      "cell_type": "code",
      "metadata": {
        "id": "GXMO0tojJQ6I"
      },
      "source": [
        "test_pddf[\"preds\"] = final_preds"
      ],
      "execution_count": 12,
      "outputs": []
    },
    {
      "cell_type": "code",
      "metadata": {
        "id": "gr8X6oswJQ6I"
      },
      "source": [
        "test_pddf['label']= np.where(test_pddf['preds'] == 1, \"SARCASM\", \"NOT_SARCASM\")"
      ],
      "execution_count": 13,
      "outputs": []
    },
    {
      "cell_type": "code",
      "metadata": {
        "id": "uA5EeVfBJQ6J"
      },
      "source": [
        "test_pddf[['id', 'label']].to_csv('answer.txt', index = False, header=False)"
      ],
      "execution_count": 14,
      "outputs": []
    },
    {
      "cell_type": "code",
      "metadata": {
        "id": "e0Ttpdfmgs1p"
      },
      "source": [
        ""
      ],
      "execution_count": 14,
      "outputs": []
    }
  ]
}